{
 "cells": [
  {
   "attachments": {},
   "cell_type": "markdown",
   "id": "27b09e13",
   "metadata": {},
   "source": [
    "# Optimization of Algorithms problems"
   ]
  },
  {
   "attachments": {},
   "cell_type": "markdown",
   "id": "ed05e9bf",
   "metadata": {},
   "source": [
    "## Exercise 1\n",
    "### Code Optimization for Text Processing\n",
    "\n",
    "You are provided with a text processing code to perform the following operations:\n",
    "\n",
    "1. Convert all text to lowercase.\n",
    "2. Remove punctuation marks.\n",
    "3. Count the frequency of each word.\n",
    "4. Show the 5 most common words.\n",
    "\n",
    "The code works, but it is inefficient and can be optimized. Your task is to identify areas that can be improved and rewrite those parts to make the code more efficient and readable."
   ]
  },
  {
   "cell_type": "code",
   "execution_count": 1,
   "id": "8467465b",
   "metadata": {},
   "outputs": [],
   "source": [
    "import string\n",
    "import math\n",
    "from collections import Counter"
   ]
  },
  {
   "cell_type": "code",
   "execution_count": 2,
   "id": "9ec1d055",
   "metadata": {},
   "outputs": [
    {
     "name": "stdout",
     "output_type": "stream",
     "text": [
      "'the': 5 times\n",
      "'of': 3 times\n",
      "'in': 2 times\n",
      "'a': 2 times\n",
      "'she': 2 times\n"
     ]
    }
   ],
   "source": [
    "def process_text(text):\n",
    "    # Text to lowercase\n",
    "    text = text.lower()\n",
    "\n",
    "    # Remove punctuation\n",
    "    for punctuation_mark in string.punctuation:\n",
    "        text = text.replace(punctuation_mark, \"\")\n",
    "\n",
    "    # Split text into words\n",
    "    words = text.split()\n",
    "\n",
    "    # Count frequencies\n",
    "    frequencies = {}\n",
    "    for word in words:\n",
    "        if word in frequencies:\n",
    "            frequencies[word] += 1\n",
    "        else:\n",
    "            frequencies[word] = 1\n",
    "\n",
    "    sorted_frequencies = sorted(\n",
    "        frequencies.items(),\n",
    "        key=lambda item: item[1],\n",
    "        reverse=True\n",
    "    )\n",
    "\n",
    "    # Get 5 most-common words\n",
    "    top_5 = sorted_frequencies[:5]\n",
    "\n",
    "    for word, frequency in top_5:\n",
    "        print(f\"'{word}': {frequency} times\")\n",
    "\n",
    "\n",
    "sample_text = \"\"\"\n",
    "    In the heart of the city, Emily discovered a quaint little café, hidden away from the bustling streets. \n",
    "    The aroma of freshly baked pastries wafted through the air, drawing in passersby. As she sipped on her latte, \n",
    "    she noticed an old bookshelf filled with classics, creating a cozy atmosphere that made her lose track of time.\n",
    "\"\"\"\n",
    "process_text(sample_text)"
   ]
  },
  {
   "cell_type": "markdown",
   "id": "29040779",
   "metadata": {},
   "source": [
    "Points to optimize:\n",
    "\n",
    "1. **Removal of punctuation marks**: Using `replace` in a loop can be inefficient, especially with long texts. Look for a more efficient way to remove punctuation marks.\n",
    "2. **Frequency count**: The code checks for the existence of each word in the dictionary and then updates its count. This can be done more efficiently with certain data structures in Python.\n",
    "3. **Sort and select:** Consider if there is a more direct or efficient way to get the 5 most frequent words without sorting all the words.\n",
    "4. **Modularity**: Break the code into smaller functions so that each one performs a specific task. This will not only optimize performance, but also make the code more readable and maintainable."
   ]
  },
  {
   "cell_type": "markdown",
   "id": "19c006cd",
   "metadata": {},
   "source": [
    "### Why the Optimized Version is More Efficient\n",
    "\n",
    "The optimized algorithm improves performance in several key ways:\n",
    "\n",
    "1. **Punctuation removal**: Uses `str.translate()` with `str.maketrans()` instead of multiple `replace()` calls, which is much faster for removing all punctuation at once.\n",
    "\n",
    "2. **Word frequency counting**: Uses Python's built-in `Counter` class instead of manually managing a dictionary, which is both faster and handles the counting logic automatically.\n",
    "\n",
    "3. **Finding top words**: Uses `Counter.most_common(n)` instead of sorting the entire dictionary, which directly returns the top N items without unnecessary sorting.\n",
    "\n",
    "4. **Code modularity**: Breaks the process into smaller, focused functions that are easier to understand, test, and reuse.\n",
    "\n",
    "These changes reduce time complexity and make the code more readable and maintainable."
   ]
  },
  {
   "cell_type": "code",
   "execution_count": 5,
   "id": "9d60ae90",
   "metadata": {},
   "outputs": [
    {
     "name": "stdout",
     "output_type": "stream",
     "text": [
      "'the': 5 times\n",
      "'of': 3 times\n",
      "'in': 2 times\n",
      "'a': 2 times\n",
      "'she': 2 times\n",
      "'her': 2 times\n",
      "'heart': 1 times\n",
      "'city': 1 times\n"
     ]
    }
   ],
   "source": [
    "# Optimized version for Exercise 1\n",
    "\n",
    "def clean_text(text):\n",
    "    # Lowercase and remove punctuation efficiently\n",
    "    translator = str.maketrans('', '', string.punctuation)\n",
    "    return text.lower().translate(translator)\n",
    "\n",
    "def get_word_frequencies(text):\n",
    "    words = text.split()\n",
    "    return Counter(words)\n",
    "\n",
    "def print_top_n(counter, n=5):\n",
    "    for word, freq in counter.most_common(n):\n",
    "        print(f\"'{word}': {freq} times\")\n",
    "\n",
    "sample_text = \"\"\"\n",
    "    In the heart of the city, Emily discovered a quaint little café, hidden away from the bustling streets. \n",
    "    The aroma of freshly baked pastries wafted through the air, drawing in passersby. As she sipped on her latte, \n",
    "    she noticed an old bookshelf filled with classics, creating a cozy atmosphere that made her lose track of time.\n",
    "\"\"\"\n",
    "\n",
    "cleaned = clean_text(sample_text)\n",
    "frequencies = get_word_frequencies(cleaned)\n",
    "print_top_n(frequencies, 8)"
   ]
  },
  {
   "attachments": {},
   "cell_type": "markdown",
   "id": "011996bc",
   "metadata": {},
   "source": [
    "## Exercise 2\n",
    "### Code Optimization for List Processing\n",
    "\n",
    "You have been given a code that performs operations on a list of numbers for:\n",
    "\n",
    "1. Filter out even numbers.\n",
    "2. Duplicate each number.\n",
    "3. Add all numbers.\n",
    "4. Check if the result is a prime number.\n",
    "\n",
    "The code provided achieves its goal, but it may be inefficient. Your task is to identify and improve the parts of the code to increase its efficiency."
   ]
  },
  {
   "cell_type": "code",
   "execution_count": 7,
   "id": "783d03a0",
   "metadata": {},
   "outputs": [
    {
     "name": "stdout",
     "output_type": "stream",
     "text": [
      "Result: 60, ¿Prime? No\n"
     ]
    }
   ],
   "source": [
    "def is_prime(number):\n",
    "    if number <= 1:\n",
    "        return False\n",
    "    for i in range(2, int(math.sqrt(number)) + 1):\n",
    "        if number % i == 0:\n",
    "            return False\n",
    "    return True\n",
    "\n",
    "\n",
    "def process_list(numbers):\n",
    "    filtered_numbers = []\n",
    "    for num in numbers:\n",
    "        if num % 2 == 0:\n",
    "            filtered_numbers.append(num)\n",
    "    duplicated_numbers = []\n",
    "    for num in filtered_numbers:\n",
    "        duplicated_numbers.append(num * 2)\n",
    "    total = 0\n",
    "    for num in duplicated_numbers:\n",
    "        total += num\n",
    "    is_total_prime = is_prime(total)\n",
    "\n",
    "    return total, is_total_prime\n",
    "\n",
    "\n",
    "numbers_list = [1, 2, 3, 4, 5, 6, 7, 8, 9, 10]\n",
    "result, result_is_prime = process_list(numbers_list)\n",
    "print(f\"Result: {result}, ¿Prime? {'Yes' if result_is_prime else 'No'}\")"
   ]
  },
  {
   "cell_type": "markdown",
   "id": "334f20f2",
   "metadata": {},
   "source": [
    "Points to optimize:\n",
    "\n",
    "1. **Filter numbers**: The code goes through the original list to filter out even numbers. Consider a more efficient way to filter the list.\n",
    "2. **Duplication**: The list is traversed multiple times. Is there a way to do this more efficiently?\n",
    "3. **Summing**: The numbers in a list are summed through a loop. Python has built-in functions that can optimize this.\n",
    "4. **Function `is_prime`**: While this function is relatively efficient, investigate if there are ways to make it even faster.\n",
    "5. **Modularity**: Consider breaking the code into smaller functions, each focused on a specific task."
   ]
  },
  {
   "cell_type": "markdown",
   "id": "4eb9e07f",
   "metadata": {},
   "source": [
    "### Why the Optimized Version is More Efficient\n",
    "\n",
    "The optimized algorithm improves performance in several key areas:\n",
    "\n",
    "1. **Single pass processing**: Uses list comprehension to filter, duplicate, and collect results in one operation instead of multiple separate loops.\n",
    "\n",
    "2. **Built-in sum function**: Uses Python's optimized `sum()` function instead of manual loop accumulation.\n",
    "\n",
    "3. **Improved prime checking**: Adds early checks for common cases (2, even numbers) and uses `math.isqrt()` for more efficient square root calculation, checking only odd divisors.\n",
    "\n",
    "4. **Reduced memory usage**: Eliminates intermediate lists by combining operations, reducing memory overhead.\n",
    "\n",
    "These changes significantly reduce the number of iterations and improve both time and space complexity."
   ]
  },
  {
   "cell_type": "code",
   "execution_count": 11,
   "id": "50b42222",
   "metadata": {},
   "outputs": [
    {
     "name": "stdout",
     "output_type": "stream",
     "text": [
      "Result: 60, ¿Prime? No\n"
     ]
    }
   ],
   "source": [
    "# Optimized version for Exercise 2\n",
    "\n",
    "def is_prime_optimized(n):\n",
    "    if n <= 1:\n",
    "        return False\n",
    "    if n == 2:\n",
    "        return True\n",
    "    if n % 2 == 0:\n",
    "        return False\n",
    "    for i in range(3, (math.isqrt(n)) + 1, 2):\n",
    "        if n % i == 0:\n",
    "            return False\n",
    "    return True\n",
    "\n",
    "def process_list_optimized(numbers):\n",
    "    # Filter even, duplicate, and sum in one line\n",
    "    duplicated_evens = [num * 2 for num in numbers if num % 2 == 0]\n",
    "    total = sum(duplicated_evens)\n",
    "    return total, is_prime_optimized(total)\n",
    "\n",
    "numbers_list = [1, 2, 3, 4, 5, 6, 7, 8, 9, 10]\n",
    "result, result_is_prime = process_list_optimized(numbers_list)\n",
    "print(f\"Result: {result}, ¿Prime? {'Yes' if result_is_prime else 'No'}\")"
   ]
  },
  {
   "attachments": {},
   "cell_type": "markdown",
   "id": "1af70806",
   "metadata": {},
   "source": [
    "Both exercises will help you improve your code performance optimization skills and give you a better understanding of how different data structures and programming techniques can affect the efficiency of your code."
   ]
  }
 ],
 "metadata": {
  "kernelspec": {
   "display_name": "Python 3",
   "language": "python",
   "name": "python3"
  },
  "language_info": {
   "codemirror_mode": {
    "name": "ipython",
    "version": 3
   },
   "file_extension": ".py",
   "mimetype": "text/x-python",
   "name": "python",
   "nbconvert_exporter": "python",
   "pygments_lexer": "ipython3",
   "version": "3.11.4"
  }
 },
 "nbformat": 4,
 "nbformat_minor": 5
}
